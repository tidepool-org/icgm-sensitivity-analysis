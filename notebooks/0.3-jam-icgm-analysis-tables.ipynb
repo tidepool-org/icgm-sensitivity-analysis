{
  "nbformat": 4,
  "nbformat_minor": 0,
  "metadata": {
    "colab": {
      "name": "0.3-jam-icgm-analysis-tables.ipynb",
      "provenance": [],
      "collapsed_sections": []
    },
    "kernelspec": {
      "display_name": "Python 3",
      "language": "python",
      "name": "python3"
    },
    "language_info": {
      "codemirror_mode": {
        "name": "ipython",
        "version": 3
      },
      "file_extension": ".py",
      "mimetype": "text/x-python",
      "name": "python",
      "nbconvert_exporter": "python",
      "pygments_lexer": "ipython3",
      "version": "3.7.3"
    }
  },
  "cells": [
    {
      "cell_type": "markdown",
      "metadata": {
        "colab_type": "text",
        "id": "3AspReTtW5Kk"
      },
      "source": [
        "# iCGM Analysis Figures v0.3\n",
        "\n",
        "This notebook is used for calculating the tables from the full risk analysis results found within the following doc: [Plan for Assessing Loop’s Decision Making under iCGM Constraints](https://docs.google.com/document/d/1YI4O9yTUkkRzsyXskhiEDX9v-ryYwXwXOuSlnPnNsi0/)"
      ]
    },
    {
      "cell_type": "code",
      "metadata": {
        "colab_type": "code",
        "id": "Ts7prbQWWyah",
        "colab": {}
      },
      "source": [
        "import pandas as pd\n",
        "import numpy as np\n",
        "import os\n",
        "import sys\n",
        "\n",
        "try:\n",
        "  import google.colab\n",
        "  IN_COLAB = True\n",
        "except:\n",
        "  IN_COLAB = False\n",
        "\n",
        "if IN_COLAB:\n",
        "    print(\"Working in Google Colab - Mounting Drive...\")\n",
        "    from google.colab import drive, auth\n",
        "    drive.mount('/content/gdrive')\n",
        "    table_functions_location = 'gdrive/Shared drives/Risk Assessment/iCGM Sensitivity Analyses/colab-notebooks/'\n",
        "    sim_results_location = 'gdrive/Shared drives/Risk Assessment/iCGM Sensitivity Analyses/data-risk-sim-results/'\n",
        "    \n",
        "else:\n",
        "    print(\"Running from local directory. Please add simulation results to the raw data directory.\")\n",
        "    table_functions_location = \"../src/visualization/\"\n",
        "    sim_results_location = \"../data/raw/\"\n",
        "\n",
        "sys.path.append(table_functions_location)\n",
        "from icgm_analysis_tables_functions import *"
      ],
      "execution_count": 0,
      "outputs": []
    },
    {
      "cell_type": "code",
      "metadata": {
        "colab_type": "code",
        "id": "TH8dlohkZKPL",
        "colab": {}
      },
      "source": [
        "# Import Risk Simulation Results\n",
        "simulation_file = 'risk-sim-results-2020-04-13.gz'\n",
        "file_import_path = os.path.join(sim_results_location, simulation_file)\n",
        "\n",
        "# Define the columns needed for analysis\n",
        "analysis_columns = [\n",
        "                'analysis_type',\n",
        "                'virtual_patient_num',\n",
        "                'bg_test_condition',\n",
        "                'icgm_test_condition',\n",
        "                'age',\n",
        "                'ylw',\n",
        "                'loop_LBGI',\n",
        "                'loop_LBGI_RS',\n",
        "                'DKAI',\n",
        "                'DKAI_RS',\n",
        "                'sensor_bias_factor',\n",
        "                'sensor_noise_coefficient',\n",
        "                'sensor_MARD',\n",
        "                'sensor_MBE'\n",
        "]\n",
        "\n",
        "sim_data = []\n",
        "\n",
        "# Read in data one chunk at a time, getting only the columns we need\n",
        "\n",
        "file_reader = pd.read_csv(file_import_path, low_memory=False, usecols=analysis_columns, chunksize=10000)\n",
        "chunk_num = 1\n",
        "for chunk in file_reader:\n",
        "    print(\"Appending chunk # \" + str(chunk_num))\n",
        "    sim_data.append(chunk)\n",
        "    chunk_num += 1"
      ],
      "execution_count": 0,
      "outputs": []
    },
    {
      "cell_type": "code",
      "metadata": {
        "colab_type": "code",
        "id": "VQwOLzr_yhEj",
        "colab": {}
      },
      "source": [
        "sim_results = pd.concat(sim_data)"
      ],
      "execution_count": 0,
      "outputs": []
    },
    {
      "cell_type": "code",
      "metadata": {
        "colab_type": "code",
        "id": "4Lt9Y1nisdi2",
        "colab": {}
      },
      "source": [
        "# Table 1. Age Breakdown\n",
        "table_1 = get_table_1()\n",
        "table_1"
      ],
      "execution_count": 0,
      "outputs": []
    },
    {
      "cell_type": "code",
      "metadata": {
        "id": "WKFTQsA0u_O8",
        "colab_type": "code",
        "colab": {}
      },
      "source": [
        "# Table 2. Duration Breakdown\n",
        "table_2 = get_table_2()\n",
        "table_2"
      ],
      "execution_count": 0,
      "outputs": []
    },
    {
      "cell_type": "code",
      "metadata": {
        "id": "T2C9rzqHu_PK",
        "colab_type": "code",
        "colab": {}
      },
      "source": [
        "#Table 5A. iCGM Special Controls Results Example\n",
        "table_5A = get_table_5A()\n",
        "table_5A"
      ],
      "execution_count": 0,
      "outputs": []
    },
    {
      "cell_type": "code",
      "metadata": {
        "id": "vax8exoRu_QA",
        "colab_type": "code",
        "colab": {}
      },
      "source": [
        "# Table 5B. Batch iCGM Sensor Characteristics\n",
        "table_5B = get_table_5B()\n",
        "table_5B"
      ],
      "execution_count": 0,
      "outputs": []
    },
    {
      "cell_type": "code",
      "metadata": {
        "id": "HxFD5_FIu_QW",
        "colab_type": "code",
        "colab": {}
      },
      "source": [
        "# Table 8. Example Summary Table\n",
        "table_8 = get_table_8()\n",
        "table_8"
      ],
      "execution_count": 0,
      "outputs": []
    },
    {
      "cell_type": "code",
      "metadata": {
        "id": "8VjDbbVFu_Qi",
        "colab_type": "code",
        "colab": {}
      },
      "source": [
        "# Table 9. Example Summary Table at the All-Analysis-Combined Level\n",
        "table_9 = get_table_9(table_8)\n",
        "table_9"
      ],
      "execution_count": 0,
      "outputs": []
    },
    {
      "cell_type": "code",
      "metadata": {
        "id": "e2DQjCd2u_Qw",
        "colab_type": "code",
        "colab": {}
      },
      "source": [
        "# Table 10. Example Summary Table at the Analysis-Level\n",
        "table_10 = get_table_10(table_8)\n",
        "table_10"
      ],
      "execution_count": 0,
      "outputs": []
    },
    {
      "cell_type": "code",
      "metadata": {
        "id": "p_-wFxdqu_RD",
        "colab_type": "code",
        "colab": {}
      },
      "source": [
        "# Table 11. Spearman Correlation Coefficient Table (rho, and p-value)\n",
        "get_table_11()"
      ],
      "execution_count": 0,
      "outputs": []
    },
    {
      "cell_type": "code",
      "metadata": {
        "id": "f_c9Rvfou_RT",
        "colab_type": "code",
        "colab": {}
      },
      "source": [
        "# Table 12. Example Summary Table at the True BG Test Condition Level\n",
        "table_12 = get_table_12(table_8)\n",
        "table_12"
      ],
      "execution_count": 0,
      "outputs": []
    },
    {
      "cell_type": "code",
      "metadata": {
        "id": "Egj7bCSdu_Rj",
        "colab_type": "code",
        "colab": {}
      },
      "source": [
        "# Table 13. Example Summary Table at the iCGM Test Condition Level\n",
        "table_13 = get_table_13()\n",
        "table_13"
      ],
      "execution_count": 0,
      "outputs": []
    },
    {
      "cell_type": "code",
      "metadata": {
        "id": "KNC8JiF6u_SM",
        "colab_type": "code",
        "colab": {}
      },
      "source": [
        "# Table 17. Overall Risk of Severe Hypoglycemia\n",
        "table_17 = get_table_17()\n",
        "table_17"
      ],
      "execution_count": 0,
      "outputs": []
    },
    {
      "cell_type": "code",
      "metadata": {
        "id": "6EvgbIqku_Sb",
        "colab_type": "code",
        "colab": {}
      },
      "source": [
        "# Table 18. Overall Risk of DKA\n",
        "table_18 = get_table_18()\n",
        "table_18"
      ],
      "execution_count": 0,
      "outputs": []
    },
    {
      "cell_type": "code",
      "metadata": {
        "id": "g_p3z4u4w6oz",
        "colab_type": "code",
        "colab": {}
      },
      "source": [
        ""
      ],
      "execution_count": 0,
      "outputs": []
    }
  ]
}